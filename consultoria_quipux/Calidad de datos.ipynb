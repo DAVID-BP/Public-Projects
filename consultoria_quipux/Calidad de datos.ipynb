{
 "cells": [
  {
   "cell_type": "markdown",
   "metadata": {},
   "source": [
    "# Calidad de datos\n",
    "\n",
    "## Introduccion\n",
    "\n",
    "Los procesos que generan datos dependen de las entidades que pueden generar información, bien sea una maquina o una persona, y estas entidades estan sujetas a condiciones técnicas que muchas veces no se pueden monitoriar o actualizar, lo que genera perdida de calidad de la información. \n",
    "\n",
    "> Para implementar modelos de calidad de datos debemos conocer:\n",
    "    1. Periodo de implementación \n",
    "    2. Variables a trabajar\n",
    "    3. Volumen de informacion\n",
    "    \n",
    "Los metodos para implementar modelos de calidad de datos son muy diversos y principalmente se basa en entender porque se genera informacion erronea en las operaciones y poder corregir estos errores desde la raiz, desde la ciencia de datos tenemos la opcion de cruzar informacion con base de datos o establecer criterios minimos en cada campo para asegurar que su valor se pueda generalizar en todos los analisis y procesos asociados a este.\n",
    "\n",
    "Si bien los metodos que trabajamos son especialmente eficientes, si no se tiene una capacidad de procesamiento adecuada es probable que nuestra memoria ram sea insuficiente a partir de 7M de comparaciones."
   ]
  },
  {
   "cell_type": "markdown",
   "metadata": {},
   "source": [
    "## Planteamiento del problema\n",
    "\n",
    "Resolver inconsistencias en la calidad de la informacion de una o varias variables en una base de datos objetivo, tomando como referencia una base de datos normativa, teniendo en cuenta criterios minimos que debe cumplir cada variable.\n",
    "\n",
    "Este planteamiento requiere llevar a cabo un procedimiento muy comun a las bases de datos, que se puede estandarizar con el tiempo y la madurez que toma el proceso con cada solucion prestada.\n",
    "\n",
    "Inicialmente debemos tener en cuenta que en cada paso del proceso se debe conservar la integridad total de la informacion de las bases de datos.\n",
    "\n",
    "Dado una base de datos objetivo llamada A con Na variables y Ma filas, lo primero que debemos preguntarnos es por la integridad de los valores de cada campo de la base de datos, debemos solucionar posibles problemas de valores nulos y formato de los campos con los que vamos trabajar.\n",
    "\n",
    "Seguidamente, identificamos la o las n variables Nn a trabajar en el proceso de calidad de datos, con el fin de establecer filtros y criterios minimos para tener en cuenta cada variable dentro del proceso.\n",
    "\n",
    "Dado otra base de datos normativa llamada B, con Nb variables y Mb filas, debemos identificar en lo posible, las mimas Nn variables que existen en A a trabajar en el proceso.\n",
    "\n",
    "Entonces, debemos hacer cruces de cada registro i en A y cada registro j en B para establecer coincidencias de cada variable Nn que cumpla con los minimos criterios para ser registros validos. \n",
    "\n",
    "Luego, con los registros en A que no cumplan con los criterios minimos los debemos procesar con diferentes metodos, donde podemos cuantificar diferentes valores propios de cada variable del registro y tener otros criterios adicionales para poder hallar una correcta coincidencia de cada registro de A en B.\n",
    "\n",
    "Los registros que definitivamente no pasen este proceso se pueden siempre procesar de manera manual y este resultado puede ser de mucho valor para seguir evolucionando los procesos de calidad de datos.\n"
   ]
  },
  {
   "cell_type": "markdown",
   "metadata": {},
   "source": [
    "## ¿Cómo correr el modelo?\n",
    "\n",
    "Puede existir diferentes formas de correr el modelo, la siguiente funciona desde la terminal del sistema para sistema operativo windows: \n",
    "\n",
    " 1. Abrimos una terminal en la carpeta del modelo.\n",
    "\n",
    " 2. Ingresamos a la carpeta codigo de la siguiente manera:\n",
    " \n",
    "     `cd codigo`\n",
    " \n",
    " \n",
    " 3. Iniciamos el script inicio_modelo:\n",
    " \n",
    "     `python inicio_modelo`\n",
    "    \n",
    "**Desde este punto, la salida del modelo va a depender de la parametrizacion.**\n",
    "\n",
    "El modelo esta diseñado para interactuar con el usuario y pedir ciertos parámetros de interés. \n",
    "\n"
   ]
  },
  {
   "attachments": {},
   "cell_type": "markdown",
   "metadata": {},
   "source": [
    "## Parametrización del modelo\n",
    "\n",
    "La parametrizacion del modelo consta de tres pasos para garantizar el correcto funcionamiento del modelo.\n",
    "\n",
    " 1. Lectura de datos: \n",
    " \n",
    "     Debemos asegurar una correcta lectura de datos, con misma codificación y mismo tipo de variable para evitar errores en las funcionalidades del modelo. \n",
    "        \n",
    "        \n",
    " 2. Estructuración de criterios:\n",
    " \n",
    "     Esta estructura la podemos ver como un asistente del objeto que se encarga de cruzar cada variable y cada criterio, se puede modificar para optimizar la experiencia del usuario y garantizar siempre los mejores resultados en cada análisis. \n",
    "    "
   ]
  },
  {
   "cell_type": "code",
   "execution_count": 1,
   "metadata": {},
   "outputs": [],
   "source": [
    "col_index = [{\n",
    "    'corrida': 1,    \n",
    "    'indicaciones':{\n",
    "        'col_id': [ 'ID_UNICO', 'GRUPO'], # Origen, Destino\n",
    "        'col_flexibles': ['LINEA2', 'CILINDRAJE'], \n",
    "        'col_estrictas': ['TABLA', 'marca'], # Son las columnas objetivo para calcular las posibles combinación donde voy a analisar semejanza o palabras contenidas\n",
    "        'on': 'LINEA2',\n",
    "        'desempate_cols': ['CILINDRAJE', 'CAJA', 'NRO_PUERTAS', 'TRACCION'],\n",
    "        'conservar': ['CILINDRAJE_origen', 'CILINDRAJE_destino', 'TRACCION_origen', 'TRACCION_destino', \n",
    "                      'CAJA_origen', 'CAJA_destino', 'TipCarga', 'NRO_PUERTAS_origen', 'NRO_PUERTAS_destino', \n",
    "                      'Promedio'],\n",
    "        'conservar_exactas_origen':['CLASE', 'Capacidad', 'CAJA', 'TipCarga', 'TRACCION', 'NRO_PUERTAS']\n",
    "        }\n",
    "    },\n",
    "    # {\n",
    "    # 'corrida': 2,    \n",
    "    # 'indicaciones':{\n",
    "    #     'col_id': [ 'ID_UNICO', 'GRUPO'], # Origen, Destino\n",
    "    #     'col_flexibles': ['LINEA2', 'CILINDRAJE'],\n",
    "    #     'col_estrictas': ['TIPO', 'marca'], # Son las columnas objetivo para calcular el merge\n",
    "    #     'on': 'LINEA2',\n",
    "    #     'desempate_cols': ['CILINDRAJE','TIPO_CAJA', 'TRACCION', 'NRO_PUERTAS'],\n",
    "    #     'conservar': [],\n",
    "    #     'conservar_exactas_origen':[]\n",
    "    #     }\n",
    "    # }\n",
    "    \n",
    "]  "
   ]
  },
  {
   "cell_type": "markdown",
   "metadata": {},
   "source": [
    " 3. Selección y ordenamiento de métodos:\n",
    "\n",
    "    Los metodos son muy importantes pues contituyen el orden y las funciones o cruces aplicados en cada momento del proceso de análisis, Es imporante conocer qué hace cada método proximamente retomaremos este tema.\n",
    "    \n",
    "    Asi se debe parametrizar los metodos dentro del modelo:"
   ]
  },
  {
   "cell_type": "code",
   "execution_count": null,
   "metadata": {},
   "outputs": [],
   "source": [
    "criterios = pd.DataFrame({'criterio': ['exactas', 'semejanza', 'palabras_contenidas','desempate'], \n",
    "                            'valor' : [     True,        True,      True, True  ]})\n"
   ]
  }
 ],
 "metadata": {
  "kernelspec": {
   "display_name": "Python 3",
   "language": "python",
   "name": "python3"
  },
  "language_info": {
   "codemirror_mode": {
    "name": "ipython",
    "version": 3
   },
   "file_extension": ".py",
   "mimetype": "text/x-python",
   "name": "python",
   "nbconvert_exporter": "python",
   "pygments_lexer": "ipython3",
   "version": "3.7.4"
  }
 },
 "nbformat": 4,
 "nbformat_minor": 2
}
