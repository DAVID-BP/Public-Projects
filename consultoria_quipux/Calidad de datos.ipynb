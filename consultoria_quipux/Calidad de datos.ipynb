{
 "cells": [
  {
   "cell_type": "markdown",
   "metadata": {},
   "source": [
    "# Calidad de datos\n",
    "\n",
    "Los procesos que generan datos dependen de las entidades que pueden generar información, bien sea una maquina o una persona, y estas entidades estan sujetas a condiciones técnicas que muchas veces no se pueden monitoriar o actualizar, lo que genera perdida de calidad de la información. \n",
    "\n",
    "Para implementar modelos de calidad de datos debemos conocer tres cosas:\n",
    "    1. Periodo de implementación\n",
    "    2. Variables a trabajar\n",
    "    3. Errores \n",
    "    \n",
    "    preguntas a responder en este documento:\n",
    "        \n",
    "\n",
    "\n",
    "\n",
    "## Introducción\n",
    "\n",
    "    *Cómo correr el modelo\n",
    "    *\n"
   ]
  },
  {
   "cell_type": "markdown",
   "metadata": {},
   "source": [
    "## ¿Cómo correr el modelo?\n",
    "\n",
    "\n",
    "En consola coremos el siguiente código:\n",
    "           Python inicio_modelo\n",
    "\n"
   ]
  },
  {
   "cell_type": "markdown",
   "metadata": {},
   "source": [
    "## Parametrización del modelo\n",
    "\n",
    "1. Lectura de datos:\n",
    "    Debemos asegurar una correcta lectura de datos, con misma codificación y mismo tipo de variable para evitar errores en las funcionalidades del modelo. \n",
    "        \n",
    "2. Estructuración de criterios\n",
    "\n",
    "\n",
    "3. Selección y ordenamiento de métodos\n"
   ]
  },
  {
   "cell_type": "code",
   "execution_count": null,
   "metadata": {},
   "outputs": [],
   "source": []
  },
  {
   "cell_type": "code",
   "execution_count": null,
   "metadata": {},
   "outputs": [],
   "source": []
  },
  {
   "cell_type": "code",
   "execution_count": null,
   "metadata": {},
   "outputs": [],
   "source": []
  },
  {
   "cell_type": "code",
   "execution_count": null,
   "metadata": {},
   "outputs": [],
   "source": []
  }
 ],
 "metadata": {
  "kernelspec": {
   "display_name": "Python 3",
   "language": "python",
   "name": "python3"
  },
  "language_info": {
   "codemirror_mode": {
    "name": "ipython",
    "version": 3
   },
   "file_extension": ".py",
   "mimetype": "text/x-python",
   "name": "python",
   "nbconvert_exporter": "python",
   "pygments_lexer": "ipython3",
   "version": "3.7.4"
  }
 },
 "nbformat": 4,
 "nbformat_minor": 2
}
